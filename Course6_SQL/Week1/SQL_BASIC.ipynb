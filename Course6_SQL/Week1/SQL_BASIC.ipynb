{
 "cells": [
  {
   "cell_type": "markdown",
   "id": "519db32f-7392-4dfe-a7f2-412d80cccddc",
   "metadata": {},
   "source": [
    "# Lab1: Select Statement\n",
    "\n",
    "SELECT Title, ProductionCompany, Locations, ReleaseYear FROM FilmLocations WHERE Writer = \"James Cameron\";"
   ]
  },
  {
   "cell_type": "markdown",
   "id": "6eedb18e-9688-4e96-8ce9-c3c585f1359a",
   "metadata": {},
   "source": [
    "# Lab2: Count, Distinct, LIMIT\n",
    "\n",
    "FilmLocations(\n",
    "Title:              titles of the films, \n",
    "ReleaseYear:        time of public release of the films, \n",
    "Locations:          locations of San Francisco where the films were shot, \n",
    "FunFacts:           funny facts about the filming locations, \n",
    "ProductionCompany:  companies who produced the films, \n",
    "Distributor:        companies who distributed the films, \n",
    "Director:           people who directed the films, \n",
    "Writer:             people who wrote the films, \n",
    "Actor1:             person 1 who acted in the films, \n",
    "Actor2:             person 2 who acted in the films,\n",
    "Actor3:             person 3 who acted in the films\n",
    ")\n",
    "\n",
    "#COUNT ALL\n",
    "SELECT COUNT(*) FROM FilmLocations; \n",
    "\n",
    "#count the number of locations of the films that writer = james Cameron\n",
    "SELECT COUNT(Locations) FROM FilmLocations WHERE Writer=\"James Cameron\";\n",
    "\n",
    "#Distinct = duplicates will be discarded \n",
    "SELECT DISTINCT Title FROM FilmLocations;\n",
    "\n",
    "#Retrieve only the first 25 rows from the table\n",
    "SELECT * FROM FilmLocations LIMIT 25;\n",
    "\n",
    "\n",
    "#retrieve 15 rows from the table starting from row 11.\n",
    "SELECT * FROM FilmLocations LIMIT 15 OFFSET 10;\n",
    "\n",
    "#LIMIT\n",
    "SELECT DISTINCT Title FROM FilmLocations LIMIT 50;\n",
    "SELECT DISTINCT Title FROM FilmLocations WHERE ReleaseYear=2015 LIMIT 3 OFFSET 5;"
   ]
  },
  {
   "cell_type": "markdown",
   "id": "e6e877ee-2954-4854-8dae-53ddf3b3a7ff",
   "metadata": {},
   "source": [
    "#How does the syntax of an INSERT statement look?\n",
    "INSERT INTO table_name (column1, column2, ... )\n",
    "VALUES (value1, value2, ... );\n",
    "\n",
    "#How does the syntax of an UPDATE statement look?\n",
    "UPDATE table_name\n",
    "SET column1 = value1, column2 = value2, ...\n",
    "WHERE condition;\n",
    "\n",
    "\n",
    "#How does the syntax of a DELETE statement look?\n",
    "DELETE FROM table_name\n",
    "WHERE condition;\n"
   ]
  },
  {
   "cell_type": "markdown",
   "id": "96fd0369-2494-44cf-85ed-4479bb96df8d",
   "metadata": {},
   "source": [
    "# INSERT\n",
    "INSERT INTO Instructor(ins_id, lastname, firstname, city, country)\n",
    "VALUES(5, 'Doe', 'John', 'Sydney', 'AU'), (6, 'Doe', 'Jane', 'Dhaka', 'BD');\n",
    "INSERT INTO Instructor(ins_id, lastname, firstname, city, country)\n",
    "VALUES(7, 'Cangiano', 'Antonio', 'Vancouver', 'CA');\n",
    "\n",
    "SELECT * FROM Instructor;\n",
    "2. UPDATE\n",
    "UPDATE Instructor \n",
    "SET city='Toronto' \n",
    "WHERE firstname=\"Sandip\";\n",
    "\n",
    "UPDATE Instructor \n",
    "SET city='Dubai', country='AE' \n",
    "WHERE ins_id=5;"
   ]
  },
  {
   "cell_type": "code",
   "execution_count": null,
   "id": "fbfd79ff-014c-4ec3-b603-8f7854b1ad52",
   "metadata": {},
   "outputs": [],
   "source": []
  }
 ],
 "metadata": {
  "kernelspec": {
   "display_name": "Python 3 (ipykernel)",
   "language": "python",
   "name": "python3"
  },
  "language_info": {
   "codemirror_mode": {
    "name": "ipython",
    "version": 3
   },
   "file_extension": ".py",
   "mimetype": "text/x-python",
   "name": "python",
   "nbconvert_exporter": "python",
   "pygments_lexer": "ipython3",
   "version": "3.8.2"
  }
 },
 "nbformat": 4,
 "nbformat_minor": 5
}
