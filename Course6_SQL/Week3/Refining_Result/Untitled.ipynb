{
 "cells": [
  {
   "cell_type": "markdown",
   "id": "ec853776-0a1a-4d27-a4e1-3e174ee0ba50",
   "metadata": {},
   "source": [
    "SELECT F_NAME , L_NAME, ADDRESS\n",
    "FROM EMPLOYEES\n",
    "WHERE ADDRESS LIKE '%Elgin,IL%';"
   ]
  },
  {
   "cell_type": "markdown",
   "id": "5818418e-0d73-4789-839e-11cfbe22971f",
   "metadata": {},
   "source": [
    "1. Say you need to retrieve the first names F_NAME and last names L_NAME of all employees who live in Elgin, IL. You can use the LIKE operator to retrieve strings that contain the said text. The code will look as shown below.\n",
    "SELECT F_NAME , L_NAME\n",
    "FROM EMPLOYEES\n",
    "WHERE B_DATE LIKE '197%';"
   ]
  },
  {
   "cell_type": "markdown",
   "id": "56bdfb74-dc3a-457b-95f2-5ad9d01f1d9f",
   "metadata": {},
   "source": [
    "Now assume that you want to identify the employees who were born during the 70s. The query above can be modified to:\n",
    "\n",
    "SELECT F_NAME, L_NAME\n",
    "FROM EMPLOYEES\n",
    "WHERE B_DATE LIKE '197%';"
   ]
  },
  {
   "cell_type": "code",
   "execution_count": null,
   "id": "3a82c0c1-57bb-462d-aa80-2ffbfffd40c9",
   "metadata": {},
   "outputs": [],
   "source": []
  }
 ],
 "metadata": {
  "kernelspec": {
   "display_name": "Python 3 (ipykernel)",
   "language": "python",
   "name": "python3"
  },
  "language_info": {
   "codemirror_mode": {
    "name": "ipython",
    "version": 3
   },
   "file_extension": ".py",
   "mimetype": "text/x-python",
   "name": "python",
   "nbconvert_exporter": "python",
   "pygments_lexer": "ipython3",
   "version": "3.8.2"
  }
 },
 "nbformat": 4,
 "nbformat_minor": 5
}
