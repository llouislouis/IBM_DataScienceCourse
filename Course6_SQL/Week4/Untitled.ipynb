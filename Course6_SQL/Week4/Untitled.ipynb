{
 "cells": [
  {
   "cell_type": "code",
   "execution_count": 1,
   "id": "f807db54-2dcd-4e46-a17e-277f37474c08",
   "metadata": {},
   "outputs": [
    {
     "data": {
      "text/html": [
       "<p>Louis<p>\n"
      ],
      "text/plain": [
       "<IPython.core.display.HTML object>"
      ]
     },
     "metadata": {},
     "output_type": "display_data"
    }
   ],
   "source": [
    "#using html by magic statement\n",
    "%%html\n",
    "<p>Louis<p>"
   ]
  },
  {
   "cell_type": "code",
   "execution_count": 3,
   "id": "a1d20697-d060-4555-b9ab-539d41647f86",
   "metadata": {},
   "outputs": [
    {
     "data": {
      "application/javascript": [
       "alert(\"louis\");\n"
      ],
      "text/plain": [
       "<IPython.core.display.Javascript object>"
      ]
     },
     "metadata": {},
     "output_type": "display_data"
    }
   ],
   "source": [
    "%%javascript\n",
    "alert(\"louis\");"
   ]
  },
  {
   "cell_type": "code",
   "execution_count": null,
   "id": "24001754-2b7d-4492-8f0a-5cddf3caa221",
   "metadata": {},
   "outputs": [],
   "source": []
  }
 ],
 "metadata": {
  "kernelspec": {
   "display_name": "Python 3 (ipykernel)",
   "language": "python",
   "name": "python3"
  },
  "language_info": {
   "codemirror_mode": {
    "name": "ipython",
    "version": 3
   },
   "file_extension": ".py",
   "mimetype": "text/x-python",
   "name": "python",
   "nbconvert_exporter": "python",
   "pygments_lexer": "ipython3",
   "version": "3.8.2"
  }
 },
 "nbformat": 4,
 "nbformat_minor": 5
}
