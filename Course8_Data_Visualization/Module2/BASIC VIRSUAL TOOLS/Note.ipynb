{
 "cells": [
  {
   "cell_type": "markdown",
   "id": "82ec8f96-a746-48f9-b9d1-8b5a74dff24c",
   "metadata": {},
   "source": [
    "# Quiz Questions and Solutions\n",
    "\n",
    "## Question 1\n",
    "\n",
    "Select two: An area plot depicts cumulated totals using _______ or _______ over time.\n",
    "\n",
    "1. Data\n",
    "2. Numbers \n",
    "3. Charts\n",
    "4. Percentages\n",
    "\n",
    "**Solution:**  \n",
    "2. Numbers  \n",
    "4. Percentages\n",
    "\n",
    "## Question 2\n",
    "\n",
    "An area plot, also known as an area chart or graph, displays the ________________ of multiple variables.\n",
    "\n",
    "1. Proportion and perimeter \n",
    "2. Proportion and area \n",
    "3. Magnitude and proportion\n",
    "4. Magnitude and area \n",
    "\n",
    "**Solution:**  \n",
    "3. Magnitude and proportion\n",
    "\n",
    "## Question 3\n",
    "\n",
    "A histogram is a way of representing the frequency distribution of a _______________.\n",
    "\n",
    "1. Numeric dataset\n",
    "2. Statistical dataset\n",
    "3. Alphabetical dataset\n",
    "4. Demographic dataset\n",
    "\n",
    "**Solution:**  \n",
    "1. Numeric dataset\n",
    "\n",
    "## Question 4\n",
    "\n",
    "In a Histogram, the ________ axis is the frequency or the number of data points in each bin.\n",
    "\n",
    "1. Horizontal \n",
    "2. Parallel\n",
    "3. Perpendicular\n",
    "4. Vertical \n",
    "\n",
    "**Solution:**  \n",
    "4. Vertical\n",
    "\n",
    "## Question 5\n",
    "\n",
    "The following code will create a horizontal bar chart of the data in the panda's data frame `question`.\n",
    "\n",
    "```python\n",
    "question.plot(type='bar', rot=90)\n",
    "false\n"
   ]
  },
  {
   "cell_type": "code",
   "execution_count": null,
   "id": "0697903a-0a12-4da1-a9ce-67be4a1b83ae",
   "metadata": {},
   "outputs": [],
   "source": []
  }
 ],
 "metadata": {
  "kernelspec": {
   "display_name": "Python 3 (ipykernel)",
   "language": "python",
   "name": "python3"
  },
  "language_info": {
   "codemirror_mode": {
    "name": "ipython",
    "version": 3
   },
   "file_extension": ".py",
   "mimetype": "text/x-python",
   "name": "python",
   "nbconvert_exporter": "python",
   "pygments_lexer": "ipython3",
   "version": "3.8.2"
  }
 },
 "nbformat": 4,
 "nbformat_minor": 5
}
