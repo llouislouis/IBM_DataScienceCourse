{
 "cells": [
  {
   "cell_type": "markdown",
   "id": "ebc1612c-866f-4dab-bfa2-cf067e67a3bb",
   "metadata": {},
   "source": [
    "# Quiz Questions and Solutions\n",
    "\n",
    "## Question 1\n",
    "\n",
    "True or False. Waffle charts are a visualization technique that represents categorical data in the form of square tiles or cells.\n",
    "\n",
    "**Solution:**  \n",
    "True\n",
    "\n",
    "## Question 2\n",
    "\n",
    "What do the squares on a waffle chart represent?\n",
    "\n",
    "1. The squares represent location plots on the graph.\n",
    "2. These squares resemble a grid of different-sized squares, each representing a specific value or category.\n",
    "3. The squares represent the trajectory of the statistics.\n",
    "4. These squares resemble a grid of equal-sized squares, with each square representing a specific value or category.\n",
    "\n",
    "**Solution:**  \n",
    "4. These squares resemble a grid of equal-sized squares, with each square representing a specific value or category.\n",
    "\n",
    "## Question 3\n",
    "\n",
    "What is Seaborn based on?\n",
    "\n",
    "1. Word Clouds\n",
    "2. Python\n",
    "3. Matplotlib\n",
    "4. Waffle Charts\n",
    "\n",
    "**Solution:**  \n",
    "3. Matplotlib\n",
    "\n",
    "## Question 4\n",
    "\n",
    "---------- is a visualization library that provides a higher level interface for creating visually appealing and informative statistical graphics and deals with complex visualizations and statistical analysis.\n",
    "\n",
    "1. numpy\n",
    "2. Seaborn\n",
    "3. Pandas\n",
    "4. matplotlib\n",
    "\n",
    "**Solution:**  \n",
    "2. Seaborn\n",
    "\n",
    "## Question 5\n",
    "\n",
    "The easiest way to create a waffle chart in Python is using the Python package _________.\n",
    "\n",
    "1. Waffle chart\n",
    "2. PyWaffle\n",
    "3. Matplotlib\n",
    "4. Data visualization library\n",
    "\n",
    "**Solution:**  \n",
    "2. PyWaffle\n",
    "```"
   ]
  },
  {
   "cell_type": "code",
   "execution_count": null,
   "id": "c745efe9-3960-4577-a226-c78fce90ea30",
   "metadata": {},
   "outputs": [],
   "source": []
  }
 ],
 "metadata": {
  "kernelspec": {
   "display_name": "Python 3 (ipykernel)",
   "language": "python",
   "name": "python3"
  },
  "language_info": {
   "codemirror_mode": {
    "name": "ipython",
    "version": 3
   },
   "file_extension": ".py",
   "mimetype": "text/x-python",
   "name": "python",
   "nbconvert_exporter": "python",
   "pygments_lexer": "ipython3",
   "version": "3.8.2"
  }
 },
 "nbformat": 4,
 "nbformat_minor": 5
}
