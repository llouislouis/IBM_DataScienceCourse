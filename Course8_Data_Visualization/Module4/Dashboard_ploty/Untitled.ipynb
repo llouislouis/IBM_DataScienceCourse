{
 "cells": [
  {
   "cell_type": "markdown",
   "id": "23aa0dcb-4c2e-47a4-8654-38dabdee76f8",
   "metadata": {},
   "source": [
    "1. **Dashboards can provide real-time visuals.**\n",
    "\n",
    "   **True**\n",
    "\n",
    "2. **What is Dash?**\n",
    "\n",
    "   **Dash is a Python framework for building web analytic applications.**\n",
    "\n",
    "3. **What is Plotly?**\n",
    "\n",
    "   **Plotly is an interactive, open-source plotting library that supports over 40 unique chart types.**\n",
    "\n",
    "4. **A Callback function is a Python function that is automatically called by Dash whenever an input component's property changes.**\n",
    "\n",
    "   **True**\n",
    "\n",
    "5. **What two functions are required to create a callback?**\n",
    "\n",
    "   **Output and Input**\n",
    "\n"
   ]
  },
  {
   "cell_type": "code",
   "execution_count": null,
   "id": "d49330d7-6dbe-414f-84fc-272423262ad7",
   "metadata": {},
   "outputs": [],
   "source": []
  }
 ],
 "metadata": {
  "kernelspec": {
   "display_name": "Python 3 (ipykernel)",
   "language": "python",
   "name": "python3"
  },
  "language_info": {
   "codemirror_mode": {
    "name": "ipython",
    "version": 3
   },
   "file_extension": ".py",
   "mimetype": "text/x-python",
   "name": "python",
   "nbconvert_exporter": "python",
   "pygments_lexer": "ipython3",
   "version": "3.8.2"
  }
 },
 "nbformat": 4,
 "nbformat_minor": 5
}
