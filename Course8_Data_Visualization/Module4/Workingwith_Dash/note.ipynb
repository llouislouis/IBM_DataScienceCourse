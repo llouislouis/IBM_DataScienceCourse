{
 "cells": [
  {
   "cell_type": "markdown",
   "id": "6a678519-e74a-4b2d-a7e9-7cfb7f085b45",
   "metadata": {},
   "source": [
    "1. **True or False: Dashboard simplifies the dynamic aspects of the business.**\n",
    "\n",
    "   **True**\n",
    "\n",
    "2. **Fill in the blank. Plotly express is a ________ wrapper.**\n",
    "\n",
    "   **High-level**\n",
    "\n",
    "3. **A Callback function is a Python function that is automatically called by _____ whenever an input component’s property changes.**\n",
    "\n",
    "   **Dash**\n",
    "\n",
    "4. **Which of the following is the correct way to add the callback decorator?**\n",
    "\n",
    "   **@app.callback( Output(component_id='bar-plot', component_property='figure'), Input(component_id='input-yr', component_property='value'))**\n",
    "\n",
    "5. **The callback function takes input and output components as ________.**\n",
    "\n",
    "   **Parameters**"
   ]
  },
  {
   "cell_type": "markdown",
   "id": "51bfe767-5458-43ff-96ce-b05693d4c0f4",
   "metadata": {},
   "source": [
    "1. **True or False. Web-based visualizations created using Plotly Python can be displayed in Jupyter Notebook, saved to standalone HTML files, or served as part of pure Python-built web applications using Dash.**\n",
    "\n",
    "   **True**\n",
    "\n",
    "2. **True or False. The Plotly graph objects module provides an automatically generated hierarchy of classes. It is the low-level interface to figures, traces, and layouts.**\n",
    "\n",
    "   **True**\n",
    "\n",
    "3. **True or False. A Plotly graph contains a JSON object which has a dictionary structure.**\n",
    "\n",
    "   **True**\n",
    "\n",
    "4. **Which features do dashboards offer in real-time?**\n",
    "\n",
    "   **Visuals**\n",
    "\n",
    "5. **True or False. Matplotlib is a comprehensive library for creating static, animated, and interactive visualizations in Python.**\n",
    "\n",
    "   **True**\n",
    "\n",
    "6. **Fill in the blank. Data can be presented by using different types of __________.**\n",
    "\n",
    "   **Dashboards**\n",
    "\n",
    "7. **True or False. Plotly Express is a high-level wrapper for Plotly.**\n",
    "\n",
    "   **True**\n",
    "\n",
    "8. **True or False. A callback function is a decorator.**\n",
    "\n",
    "   **False**\n",
    "\n",
    "9. **Fill in the blank. Dash is an _____Source User Interface Python library for creating reactive, web-based applications.**\n",
    "\n",
    "   **Open**\n",
    "\n",
    "10. **True or False. Output sets results returned from the callback function to a component id.**\n",
    "\n",
    "    **True**"
   ]
  },
  {
   "cell_type": "code",
   "execution_count": null,
   "id": "a5d2b1fe-b4f9-4c3a-a24d-29c9db9417c6",
   "metadata": {},
   "outputs": [],
   "source": []
  }
 ],
 "metadata": {
  "kernelspec": {
   "display_name": "Python 3 (ipykernel)",
   "language": "python",
   "name": "python3"
  },
  "language_info": {
   "codemirror_mode": {
    "name": "ipython",
    "version": 3
   },
   "file_extension": ".py",
   "mimetype": "text/x-python",
   "name": "python",
   "nbconvert_exporter": "python",
   "pygments_lexer": "ipython3",
   "version": "3.8.2"
  }
 },
 "nbformat": 4,
 "nbformat_minor": 5
}
