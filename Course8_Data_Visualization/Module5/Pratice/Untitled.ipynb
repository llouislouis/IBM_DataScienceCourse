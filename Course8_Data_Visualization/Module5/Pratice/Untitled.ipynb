{
 "cells": [
  {
   "cell_type": "markdown",
   "id": "d8ebfc6c-5d43-4a53-a655-a09e2d97c789",
   "metadata": {},
   "source": [
    "1. **Which best practice should you follow to ensure effective data visualization?**\n",
    "\n",
    "   **Label the axes clearly, provide context, and use only necessary data and labels.**\n",
    "\n",
    "2. **What are the layers of the Matplotlib architecture?**\n",
    "\n",
    "   **Backend Layer, Artist Layer, and Scripting Layer**\n",
    "\n",
    "3. **Which plot library is an excellent choice for geospatial data visualization and helps to create interactive and customizable maps?**\n",
    "\n",
    "   **Folium**\n",
    "\n",
    "4. **Complete the following. The Jupyter Notebook is an open-source web application that allows you to_________.**\n",
    "\n",
    "   **Create and share documents**\n",
    "\n",
    "5. **Area plots are particularly effective in depicting data of what nature?**\n",
    "\n",
    "   **Population Demographics**\n",
    "\n",
    "6. **What is a circular graphic that displays numeric proportions by dividing a circle into proportional slices?**\n",
    "\n",
    "   **Pie chart**\n",
    "\n",
    "7. **Fill in the blank. A _________displays two variables against each other.**\n",
    "\n",
    "   **Scatter plot**\n",
    "\n",
    "8. **Identify the use case for a Word Cloud.**\n",
    "\n",
    "   **Content analysis**\n",
    "\n",
    "9. **Which tool depicts the importance of different words in the body of text?**\n",
    "\n",
    "   **A Word Cloud**\n",
    "\n",
    "10. **Which Folium Map style is great for visualizing and exploring river meanders and coastal zones?**\n",
    "\n",
    "    **Stamen terrain**\n",
    "\n",
    "11. **What feature enhances interactivity and provides contextual information to maps?**\n",
    "\n",
    "    **Markers**\n",
    "\n",
    "12. **Which tool allows you to switch between Jupyter Notebooks and standalone deployed apps and dashboards?**\n",
    "\n",
    "    **panel**\n",
    "\n",
    "13. **What command creates a line chart using Plotly Graph Objects?**\n",
    "\n",
    "    **go.Figure()**\n",
    "\n",
    "14. **What does the @app.callback decorator in Dash indicate?**\n",
    "\n",
    "    **It connects the input and output components.**\n",
    "\n",
    "15. **What is a callback function?**\n",
    "\n",
    "    **A decorator**"
   ]
  },
  {
   "cell_type": "code",
   "execution_count": null,
   "id": "4b84d896-cede-4333-abdd-4d4764839018",
   "metadata": {},
   "outputs": [],
   "source": []
  }
 ],
 "metadata": {
  "kernelspec": {
   "display_name": "Python 3 (ipykernel)",
   "language": "python",
   "name": "python3"
  },
  "language_info": {
   "codemirror_mode": {
    "name": "ipython",
    "version": 3
   },
   "file_extension": ".py",
   "mimetype": "text/x-python",
   "name": "python",
   "nbconvert_exporter": "python",
   "pygments_lexer": "ipython3",
   "version": "3.8.2"
  }
 },
 "nbformat": 4,
 "nbformat_minor": 5
}
