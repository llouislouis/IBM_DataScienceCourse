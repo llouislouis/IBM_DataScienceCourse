{
 "cells": [
  {
   "cell_type": "markdown",
   "id": "a1d0558a-59f3-43c7-92ae-fe481cc3ebe3",
   "metadata": {},
   "source": [
    "### Question 1\n",
    "Which one is TRUE about the kNN algorithm?\n",
    "\n",
    "- [ ] The most similar point in kNN is the one with the smallest distance averaged across all normalized features.\n",
    "- [ ] kNN calculates similarity by measuring how close the two data points’ response values are.\n",
    "- [x] kNN algorithm can be used to estimate values for a continuous target.\n",
    "- [ ] kNN is a classification algorithm that takes a bunch of unlabelled points and uses them to learn how to label other points.\n",
    "\n",
    "### Question 2\n",
    "If the information gain of the tree by using attribute A is 0.3, what can we infer?\n",
    "\n",
    "- [x] The entropy of a tree before split minus weighted entropy after split by attribute A is 0.3.\n",
    "- [ ] By making this split, we increase the randomness in each child node by 0.3.\n",
    "- [ ] Entropy in the decision tree increases by 0.3 if we make this split.\n",
    "- [ ] Compared to attribute B with 0.65 information gain, attribute A should be selected first for splitting.\n",
    "\n",
    "### Question 3\n",
    "When we have a value of K for KNN that’s too small, what will the model most likely look like?\n",
    "\n",
    "- [ ] The model will have high accuracy on the test set.\n",
    "- [ ] The model will have high out-of-sample accuracy.\n",
    "- [ ] The model will be overly simple and does not capture enough noise.\n",
    "- [x] The model will be highly complex and captures too much noise.\n"
   ]
  },
  {
   "cell_type": "markdown",
   "id": "0fd9626f-ec85-4311-9895-1b8deb9f6c94",
   "metadata": {},
   "source": [
    "### Question 1\n",
    "What can we infer about our kNN model when the value of K is too big?\n",
    "\n",
    "- [ ] The training accuracy will be high, while the out-of-sample accuracy will be low.\n",
    "- [ ] The model will capture a lot of noise as a result of overfitting.\n",
    "- [x] The model is overly generalized and underfitted to the data.\n",
    "- [ ] The model will be too complex and not interpretable.\n",
    "\n",
    "### Question 2\n",
    "When splitting data into branches for a decision tree, what kind of feature is favored and chosen first?\n",
    "\n",
    "- [ ] The feature with the greatest number of categories.\n",
    "- [ ] The feature that splits the data equally into groups.\n",
    "- [ ] The feature that increases entropy in the tree nodes.\n",
    "- [x] The feature that increases purity in the tree nodes.\n",
    "\n",
    "### Question 3\n",
    "What is the relationship between entropy and information gain?\n",
    "\n",
    "- [ ] High entropy and low information gain is desired.\n",
    "- [ ] When information gain decreases, entropy decreases.\n",
    "- [ ] High entropy and high information gain is desired.\n",
    "- [x] When information gain increases, entropy decreases.\n",
    "\n",
    "### Question 4\n",
    "Predicting whether a customer responds to a particular advertising campaign or not is an example of what?\n",
    "\n",
    "- [x] Classification problem\n",
    "- [ ] Machine learning\n",
    "- [ ] Regression\n",
    "- [ ] None of the above\n",
    "\n",
    "### Question 5\n",
    "For a new observation, how do we predict its response value (categorical) using a KNN model with k=5?\n",
    "\n",
    "- [x] Take majority vote among 5 points whose features are closest to the new observation.\n",
    "- [ ] Take the majority vote among 5 points who are the most similar to each other.\n",
    "- [ ] Take the average among 5 points whose features are closest to the new observation.\n",
    "- [ ] Form 5 clusters and assign the new observation to the most similar cluster, taking the mean value as prediction.\n"
   ]
  },
  {
   "cell_type": "code",
   "execution_count": null,
   "id": "9808b48b-5cc7-4a2b-a64a-38f240432b68",
   "metadata": {},
   "outputs": [],
   "source": []
  }
 ],
 "metadata": {
  "kernelspec": {
   "display_name": "Python 3 (ipykernel)",
   "language": "python",
   "name": "python3"
  },
  "language_info": {
   "codemirror_mode": {
    "name": "ipython",
    "version": 3
   },
   "file_extension": ".py",
   "mimetype": "text/x-python",
   "name": "python",
   "nbconvert_exporter": "python",
   "pygments_lexer": "ipython3",
   "version": "3.8.2"
  }
 },
 "nbformat": 4,
 "nbformat_minor": 5
}
