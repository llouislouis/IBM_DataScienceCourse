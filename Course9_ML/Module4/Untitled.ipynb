{
 "cells": [
  {
   "cell_type": "markdown",
   "id": "4c5eb329-9b48-4043-8f98-e9b9925af206",
   "metadata": {},
   "source": [
    "```markdown\n",
    "### Question 1\n",
    "Which of the following examples is/are a sample application of Logistic Regression? (select three)\n",
    "\n",
    "- [ ] Estimating the blood pressure of a patient based on her symptoms and biographical data.\n",
    "- [x] Customer's propensity to purchase a product or halt a subscription in marketing applications.\n",
    "- [x] The probability that a person has a heart attack within a specified time period using person's age and sex.\n",
    "- [x] Likelihood of a homeowner defaulting on a mortgage.\n",
    "\n",
    "### Question 2\n",
    "Which of the following statements comparing linear and logistic regressions is TRUE?\n",
    "\n",
    "- [x] Linear regression is used for a continuous target whereas logistic regression is more suitable for a categorical target.\n",
    "- [ ] Independent variables in linear regression can be continuous or categorical, but can only be categorical in logistic regression.\n",
    "- [ ] In this course, linear regression minimizes the mean absolute error, while logistic regression minimizes the mean squared error.\n",
    "- [ ] Both linear and logistic regression can be used to predict categorical responses and attain a point’s likelihood of belonging to each class.\n",
    "\n",
    "### Question 3\n",
    "How are gradient descent and learning rate used in logistic regression?\n",
    "\n",
    "- [ ] Gradient descent will minimize learning rate to minimize the cost in fewer iterations.\n",
    "- [ ] Gradient descent takes increasingly bigger steps towards the minimum with each iteration.\n",
    "- [ ] We want to minimize the cost by maximizing the learning rate value.\n",
    "- [x] Gradient descent specifies the steps to take in the current slope direction, learning rate is the step length.\n",
    "```  "
   ]
  },
  {
   "cell_type": "code",
   "execution_count": null,
   "id": "aedc92fe-ef7b-431f-8532-a26b3130e38b",
   "metadata": {},
   "outputs": [],
   "source": []
  }
 ],
 "metadata": {
  "kernelspec": {
   "display_name": "Python 3 (ipykernel)",
   "language": "python",
   "name": "python3"
  },
  "language_info": {
   "codemirror_mode": {
    "name": "ipython",
    "version": 3
   },
   "file_extension": ".py",
   "mimetype": "text/x-python",
   "name": "python",
   "nbconvert_exporter": "python",
   "pygments_lexer": "ipython3",
   "version": "3.8.2"
  }
 },
 "nbformat": 4,
 "nbformat_minor": 5
}
